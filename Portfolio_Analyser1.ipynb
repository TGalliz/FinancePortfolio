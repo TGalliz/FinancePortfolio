{
  "nbformat": 4,
  "nbformat_minor": 0,
  "metadata": {
    "colab": {
      "name": "Portfolio_Analyser1.ipynb",
      "provenance": [],
      "collapsed_sections": [],
      "authorship_tag": "ABX9TyPo9+8CLOrKbHyLMgwXNFkc",
      "include_colab_link": true
    },
    "kernelspec": {
      "display_name": "Python 3",
      "name": "python3"
    }
  },
  "cells": [
    {
      "cell_type": "markdown",
      "metadata": {
        "id": "view-in-github",
        "colab_type": "text"
      },
      "source": [
        "<a href=\"https://colab.research.google.com/github/TGalliz/FinancePortfolio/blob/main/Portfolio_Analyser1.ipynb\" target=\"_parent\"><img src=\"https://colab.research.google.com/assets/colab-badge.svg\" alt=\"Open In Colab\"/></a>"
      ]
    },
    {
      "cell_type": "code",
      "metadata": {
        "id": "clpiULQupI4r"
      },
      "source": [
        "#Description: Stock portofolio optimizer\n"
      ],
      "execution_count": null,
      "outputs": []
    },
    {
      "cell_type": "code",
      "metadata": {
        "id": "JfitDaCGpdDl"
      },
      "source": [
        "#Imports\n",
        "import pandas as pd\n",
        "import numpy as np\n",
        "import requests\n"
      ],
      "execution_count": null,
      "outputs": []
    },
    {
      "cell_type": "code",
      "metadata": {
        "colab": {
          "base_uri": "https://localhost:8080/"
        },
        "id": "Q99lF87UqqRl",
        "outputId": "fca58989-6e69-41a8-cd39-83514a36c3a5"
      },
      "source": [
        "#%pip install yfinance\n",
        "import yfinance as yf"
      ],
      "execution_count": null,
      "outputs": [
        {
          "output_type": "stream",
          "text": [
            "Collecting yfinance\n",
            "  Downloading https://files.pythonhosted.org/packages/7a/e8/b9d7104d3a4bf39924799067592d9e59119fcfc900a425a12e80a3123ec8/yfinance-0.1.55.tar.gz\n",
            "Requirement already satisfied: pandas>=0.24 in /usr/local/lib/python3.7/dist-packages (from yfinance) (1.1.5)\n",
            "Requirement already satisfied: numpy>=1.15 in /usr/local/lib/python3.7/dist-packages (from yfinance) (1.19.5)\n",
            "Requirement already satisfied: requests>=2.20 in /usr/local/lib/python3.7/dist-packages (from yfinance) (2.23.0)\n",
            "Requirement already satisfied: multitasking>=0.0.7 in /usr/local/lib/python3.7/dist-packages (from yfinance) (0.0.9)\n",
            "Collecting lxml>=4.5.1\n",
            "\u001b[?25l  Downloading https://files.pythonhosted.org/packages/d2/88/b25778f17e5320c1c58f8c5060fb5b037288e162bd7554c30799e9ea90db/lxml-4.6.2-cp37-cp37m-manylinux1_x86_64.whl (5.5MB)\n",
            "\u001b[K     |████████████████████████████████| 5.5MB 7.9MB/s \n",
            "\u001b[?25hRequirement already satisfied: pytz>=2017.2 in /usr/local/lib/python3.7/dist-packages (from pandas>=0.24->yfinance) (2018.9)\n",
            "Requirement already satisfied: python-dateutil>=2.7.3 in /usr/local/lib/python3.7/dist-packages (from pandas>=0.24->yfinance) (2.8.1)\n",
            "Requirement already satisfied: certifi>=2017.4.17 in /usr/local/lib/python3.7/dist-packages (from requests>=2.20->yfinance) (2020.12.5)\n",
            "Requirement already satisfied: chardet<4,>=3.0.2 in /usr/local/lib/python3.7/dist-packages (from requests>=2.20->yfinance) (3.0.4)\n",
            "Requirement already satisfied: urllib3!=1.25.0,!=1.25.1,<1.26,>=1.21.1 in /usr/local/lib/python3.7/dist-packages (from requests>=2.20->yfinance) (1.24.3)\n",
            "Requirement already satisfied: idna<3,>=2.5 in /usr/local/lib/python3.7/dist-packages (from requests>=2.20->yfinance) (2.10)\n",
            "Requirement already satisfied: six>=1.5 in /usr/local/lib/python3.7/dist-packages (from python-dateutil>=2.7.3->pandas>=0.24->yfinance) (1.15.0)\n",
            "Building wheels for collected packages: yfinance\n",
            "  Building wheel for yfinance (setup.py) ... \u001b[?25l\u001b[?25hdone\n",
            "  Created wheel for yfinance: filename=yfinance-0.1.55-py2.py3-none-any.whl size=22616 sha256=123fe91c3385dc7cedc8deb734d4a50e1104a6a442d2ba6c6a7e534ef9e3e084\n",
            "  Stored in directory: /root/.cache/pip/wheels/04/98/cc/2702a4242d60bdc14f48b4557c427ded1fe92aedf257d4565c\n",
            "Successfully built yfinance\n",
            "Installing collected packages: lxml, yfinance\n",
            "  Found existing installation: lxml 4.2.6\n",
            "    Uninstalling lxml-4.2.6:\n",
            "      Successfully uninstalled lxml-4.2.6\n",
            "Successfully installed lxml-4.6.2 yfinance-0.1.55\n"
          ],
          "name": "stdout"
        }
      ]
    },
    {
      "cell_type": "code",
      "metadata": {
        "colab": {
          "base_uri": "https://localhost:8080/"
        },
        "id": "RKmIRBDnm7WU",
        "outputId": "308b8c56-104b-4c36-cd57-ce6e9d3585b3"
      },
      "source": [
        "tsx500 = ['CP.TO', 'ATD-B.TO', 'PPL.TO', 'CNR.TO', 'GET.TO', 'IPL.TO', 'MG.TO', 'CNQ.TO', 'SAP.TO', 'BAM-A.TO', 'CM.TO', 'TRP.TO',\n",
        "          'ECA.TO', 'ENB.TO', 'BMO.TO', 'TD.TO', 'NA.TO', 'VRX.TO', 'FM.TO', 'RY.TO', 'SLF.TO', 'MFC.TO', 'BNS.TO',\n",
        "          'IMO.TO', 'L.TO', 'T.TO', 'FFH.TO', 'SJR-B.TO', 'TRI.TO', 'POT.TO', 'TOU.TO', 'CPG.TO', 'CU.TO', 'SU.TO',\n",
        "          'BCE.TO', 'GIB-A.TO', 'HSE.TO', 'PWF.TO', 'AGU.TO', 'COS.TO', 'POW.TO', 'GWO.TO', 'CVE.TO', 'IGM.TO',\n",
        "          'RCI-B.TO', 'WN.TO', 'G.TO', 'ABX.TO', 'TLM.TO', 'CCT.TO', 'TCK-B.TO', 'AYA.TO', 'AC-A.TO', 'PXT.TO',\n",
        "          'RRX.TO', 'ACQ.TO', 'SES.TO', 'LNR.TO', 'SCC.TO', 'POU.TO', 'GC.TO', 'KEY.TO', 'BIR.TO', 'OTC.TO', 'CEU.TO',\n",
        "          'VSN.TO', 'TOG.TO', 'GEI.TO', 'CCL-B.TO', 'CSU.TO', 'WCP.TO', 'KEL.TO', 'FSV.TO', 'PSI.TO', 'BNK.TO',\n",
        "          'FTT.TO', 'HCG.TO', 'MFI.TO', 'MX.TO', 'ALA.TO', 'AQN.TO', 'NVA.TO', 'STN.TO', 'ENF.TO', 'EFX.TO', 'WSP.TO',\n",
        "          'SPB.TO', 'THO.TO', 'AEM.TO', 'FNV.TO', 'HBM.TO', 'RUS.TO', 'SCL.TO', 'CPX.TO', 'MRC.TO', 'SGY.TO', 'CWB.TO',\n",
        "          'TFI.TO', 'SNC.TO', 'PJC-A.TO', 'WJA.TO', 'RON.TO', 'MIC.TO', 'WPK.TO', 'DH.TO', 'GIL.TO', 'WFT.TO', 'NPI.TO',\n",
        "          'CTC-A.TO', 'PAA.TO', 'ERF.TO', 'CCA.TO', 'FN.TO', 'BEI-UN.TO', 'LUN.TO', 'RBA.TO', 'AX-UN.TO', 'BNE.TO',\n",
        "          'OCX.TO', 'ELF.TO', 'BPY-UN.TO', 'PKI.TO', 'IFC.TO', 'PEY.TO', 'RNW.TO', 'EMA.TO', 'PD.TO', 'REF-UN.TO',\n",
        "          'QBR-B.TO', 'CAR-UN.TO', 'VET.TO', 'CAE.TO', 'TIH.TO', 'ARX.TO', 'CSH-UN.TO', 'SJ.TO', 'WTE.TO', 'DOL.TO',\n",
        "          'GRT-UN.TO', 'X.TO', 'FTS.TO', 'ELD.TO', 'CFP.TO', 'BOX-UN.TO', 'AP-UN.TO', 'BTE.TO', 'IAG.TO', 'REI-UN.TO',\n",
        "          'LB.TO', 'HR-UN.TO', 'FCR.TO', 'PGF.TO', 'CFW.TO', 'TXG.TO', 'CHP-UN.TO', 'CWT-UN.TO', 'BIN.TO', 'FRU.TO',\n",
        "          'MRU.TO', 'BB.TO', 'CIX.TO', 'CUF-UN.TO', 'MTL.TO', 'CRR-UN.TO', 'LEG.TO', 'BNP.TO', 'EFN.TO', 'AIM.TO',\n",
        "          'CGX.TO', 'ACO-X.TO', 'NGD.TO', 'HBC.TO', 'MEG.TO', 'IMX.TO', 'MDA.TO', 'TRQ.TO', 'DGC.TO', 'CLS.TO',\n",
        "          'SLW.TO', 'BXE.TO', 'CCO.TO', 'D-UN.TO', 'TET.TO', 'CG.TO', 'EMP-A.TO', 'CJR-B.TO', 'BRP.TO', 'TCW.TO',\n",
        "          'MBT.TO', 'DOO.TO', 'BTO.TO', 'TA.TO', 'LIF.TO', 'ATH.TO', 'ESI.TO', 'AOI.TO', 'YRI.TO', 'K.TO', 'BBD-B.TO',\n",
        "          'IMG.TO', 'PWT.TO', 'PGF.TO', 'CFW.TO', 'TXG.TO', 'CHP-UN.TO', 'CWT-UN.TO', 'BIN.TO', 'FRU.TO', 'MRU.TO',\n",
        "          'BB.TO', 'CIX.TO', 'CUF-UN.TO', 'MTL.TO', 'CRR-UN.TO', 'LEG.TO', 'BNP.TO', 'EFN.TO', 'AIM.TO', 'CGX.TO',\n",
        "          'ACO-X.TO', 'NGD.TO', 'HBC.TO', 'MEG.TO', 'IMX.TO', 'MDA.TO', 'TRQ.TO', 'DGC.TO', 'CLS.TO', 'SLW.TO',\n",
        "          'BXE.TO', 'CCO.TO', 'D-UN.TO', 'TET.TO', 'CG.TO', 'EMP-A.TO', 'CJR-B.TO', 'BRP.TO', 'TCW.TO', 'MBT.TO',\n",
        "          'DOO.TO', 'BTO.TO', 'TA.TO', 'LIF.TO', 'ATH.TO', 'ESI.TO', 'AOI.TO', 'YRI.TO', 'K.TO', 'BBD-B.TO', 'IMG.TO',\n",
        "          'PWT.TO', 'ELW.TO', 'CXR.TO', 'PRC.TO', 'SPE.TO', 'TMD.TO', 'TKM.TO', 'RE.TO', 'PTK.TO', 'YGR.TO', 'TVE.TO',\n",
        "          'LGT.A.TO', 'DHX.TO', 'DEE.TO', 'SW.TO', 'LSG.TO', 'PLI.TO', 'KLS.TO', 'LUC.TO', 'SMF.TO', 'CKE.TO', 'IT.TO',\n",
        "          'BLD.TO', 'NVC.TO', 'MAL.TO', 'CHR.B.TO', 'CJT.TO', 'BCI.TO', 'CKI.TO', 'HWO.TO', 'RCL.TO', 'R.TO', 'HYG.TO',\n",
        "          'AIF.TO', 'CF.TO', 'TTH.TO', 'AGT.TO', 'CSO.TO', 'PMT.TO', 'CLR.TO', 'EH.TO', 'TV.TO', 'WEF.TO', 'CR.TO',\n",
        "          'PUR.TO', 'SYZ.TO', 'GUY.TO', 'XTC.TO', 'SRX.TO', 'BYD.UN.TO', 'GS.TO', 'PSG.TO', 'BOS.TO', 'PPY.TO',\n",
        "          'PNE.TO', 'POM.TO', 'AAV.TO', 'ECI.TO', 'HLP.UN.TO', 'CUM.TO', 'WED.TO', 'NAL.TO', 'INN.UN.TO', 'SUM.TO',\n",
        "          'SVC.TO', 'QLT.TO', 'VNP.TO', 'INP.TO', 'LGO.TO', 'RMP.TO', 'KGI.TO', 'MDZ.A.TO', 'WB.TO', 'SEC.TO', 'CNE.TO',\n",
        "          'EQB.TO', 'RIO.TO', 'PLS.TO', 'GGD.TO', 'SOY.TO', 'Y.TO', 'ESL.TO', 'PHX.TO', 'LAS.A.TO', 'LW.TO', 'BCM.TO',\n",
        "          'BAD.TO', 'VLN.TO', 'PBH.TO', 'IFP.TO', 'NG.TO', 'WIR.U.TO', 'MND.TO', 'MEQ.TO', 'GDC.TO', 'NOA.TO', 'MAG.TO',\n",
        "          'KDX.TO', 'RLC.TO', 'EXE.TO', 'EPS.TO', 'TMA.TO', 'HRX.TO', 'CWC.TO', 'BLX.TO', 'CHE.UN.TO', 'MSI.TO',\n",
        "          'BDT.TO', 'DSG.TO', 'NFI.TO', 'XDC.TO', 'TS.B.TO', 'FVI.TO', 'CSS.TO', 'GCG.A.TO', 'WIN.TO', 'TMB.TO',\n",
        "          'AFN.TO', 'PRI.TO', 'NSU.TO', 'FRC.TO', 'DND.TO', 'INE.TO', 'AVO.TO', 'DRM.TO', 'VGQ.TO', 'RMC.TO',\n",
        "          'MST.UN.TO', 'GH.TO', 'MKP.TO', 'HLF.TO', 'MRD.TO', 'GMP.TO', 'TOT.TO', 'MRT.UN.TO', 'TCN.TO', 'CQE.TO',\n",
        "          'UNS.TO', 'DIR.UN.TO', 'PG.TO', 'FSZ.TO', 'EDR.TO', 'TGZ.TO', 'ZCL.TO', 'NUS.TO', 'AI.TO', 'CSE.TO', 'KBL.TO',\n",
        "          'AW.UN.TO', 'ALS.TO', 'TWC.TO', 'MRG.UN.TO', 'ISV.TO', 'WRG.TO', 'MRE.TO', 'ET.TO', 'MVN.TO', 'GBT.A.TO',\n",
        "          'P.TO', 'BDI.TO', 'NIF.UN.TO', 'TNP.TO', 'STB.TO', 'ALC.TO', 'PRB.TO', 'ADN.TO', 'CVG.TO', 'DR.TO',\n",
        "          'ACR.UN.TO', 'FCU.TO', 'LNF.TO', 'GBU.TO', 'AKT.A.TO', 'ARE.TO', 'DDC.TO', 'WFC.TO', 'CAM.TO', 'AAR.UN.TO',\n",
        "          'PZA.TO', 'CGO.TO', 'ATP.TO', 'CDI.TO', 'RCH.TO', 'TCL.A.TO', 'TVA.B.TO', 'NPR.UN.TO', 'DRG.UN.TO', 'FC.TO',\n",
        "          'SSO.TO', 'CFX.TO', 'DML.TO', 'IIP.UN.TO', 'CS.TO', 'SII.TO', 'HOT.UN.TO', 'AUQ.TO', 'RMX.TO', 'WEQ.TO',\n",
        "          'DTX.TO', 'TPH.TO', 'ADW.A.TO', 'NGQ.TO', 'WJX.TO', 'PLT.UN.TO', 'SCP.TO', 'VNR.TO', 'IDG.TO', 'ZAR.TO',\n",
        "          'SOX.TO', 'NWC.TO', 'CAS.TO', 'PTA.TO', 'TKO.TO', 'BKX.TO', 'ABT.TO', 'QEC.TO', 'MMT.TO', 'AGF.B.TO',\n",
        "          'CVL.TO', 'NWH.UN.TO', 'CSW.A.TO', 'PLZ.UN.TO', 'JE.TO', 'RMM.UN.TO', 'MPV.TO', 'MTY.TO', 'XSR.TO', 'KMP.TO',\n",
        "          'PXX.TO', 'ESN.TO', 'BCB.TO', 'OER.TO', 'SVL.TO', 'ITP.TO', 'LRE.TO', 'S.TO', 'CMG.TO', 'RME.TO', 'DII.B.TO',\n",
        "          'ATA.TO', 'BPF.UN.TO', 'MDI.TO', 'PTM.TO', 'AD.TO', 'DC.A.TO', 'TBE.TO', 'SSL.TO', 'SVY.TO', 'NCC.A.TO',\n",
        "          'MDF.TO', 'CGG.TO', 'TGL.TO', 'HNZ.A.TO', 'NDQ.TO', 'VIC.TO', 'LIQ.TO', 'RTK.TO', 'KAT.TO', 'WZR.TO',\n",
        "          'CDV.TO', 'TDG.TO', 'PVG.TO', 'AKG.TO', 'EXF.TO', 'DCI.TO', 'EIF.TO', 'HNL.TO', 'DPM.TO', 'CFN.TO', 'ACC.TO',\n",
        "          'TMM.TO', 'TRZ.TO', 'RSI.TO', 'LII.TO', 'CNL.TO', 'NBD.TO', 'LTS.TO', 'SWY.TO', 'III.TO', 'SNM.TO',\n",
        "          'RET.A.TO', 'TCM.TO', 'RKN.TO', 'SMT.TO', 'GLN.TO', 'PTS.TO', 'FR.TO', 'ASR.TO', 'OXC.TO', 'SMA.TO', 'CUS.TO',\n",
        "          'SEA.TO', 'ANS.TO', 'TNX.TO', 'NTB.TO', 'AR.TO', 'HGN.TO', 'RNW.TO','WCN.TO','CSU.TO','IVN.TO', 'AGI.TO', 'SVM.TO', 'WPT.TO','LSPD.TO','SHOP.TO','WEED.TO']\n",
        "data_tsx = yf.download(tsx500,start='2010-01-01',end='2020-12-31')"
      ],
      "execution_count": null,
      "outputs": [
        {
          "output_type": "stream",
          "text": [
            "[*********************100%***********************]  505 of 505 completed\n",
            "\n",
            "182 Failed downloads:\n",
            "- TDG.TO: No data found, symbol may be delisted\n",
            "- GS.TO: No data found, symbol may be delisted\n",
            "- NBD.TO: No data found for this date range, symbol may be delisted\n",
            "- CWT-UN.TO: No data found for this date range, symbol may be delisted\n",
            "- DGC.TO: No data found, symbol may be delisted\n",
            "- OTC.TO: No data found for this date range, symbol may be delisted\n",
            "- BYD.UN.TO: No data found, symbol may be delisted\n",
            "- TFI.TO: No data found for this date range, symbol may be delisted\n",
            "- HSE.TO: No data found, symbol may be delisted\n",
            "- MPV.TO: No data found for this date range, symbol may be delisted\n",
            "- TET.TO: No data found for this date range, symbol may be delisted\n",
            "- AAR.UN.TO: No data found, symbol may be delisted\n",
            "- VRX.TO: No data found for this date range, symbol may be delisted\n",
            "- KMP.TO: No data found for this date range, symbol may be delisted\n",
            "- LGT.A.TO: No data found, symbol may be delisted\n",
            "- ACR.UN.TO: No data found, symbol may be delisted\n",
            "- AUQ.TO: No data found for this date range, symbol may be delisted\n",
            "- CKE.TO: No data found, symbol may be delisted\n",
            "- PLS.TO: No data found for this date range, symbol may be delisted\n",
            "- EPS.TO: No data found, symbol may be delisted\n",
            "- BCB.TO: No data found, symbol may be delisted\n",
            "- VSN.TO: No data found for this date range, symbol may be delisted\n",
            "- RON.TO: No data found for this date range, symbol may be delisted\n",
            "- PRC.TO: No data found, symbol may be delisted\n",
            "- RMP.TO: No data found for this date range, symbol may be delisted\n",
            "- TPH.TO: No data found, symbol may be delisted\n",
            "- SSO.TO: No data found for this date range, symbol may be delisted\n",
            "- RTK.TO: No data found for this date range, symbol may be delisted\n",
            "- SCP.TO: No data found for this date range, symbol may be delisted\n",
            "- OCX.TO: No data found for this date range, symbol may be delisted\n",
            "- DEE.TO: No data found, symbol may be delisted\n",
            "- WIN.TO: No data found for this date range, symbol may be delisted\n",
            "- BKX.TO: No data found, symbol may be delisted\n",
            "- IT.TO: No data found for this date range, symbol may be delisted\n",
            "- PRB.TO: No data found, symbol may be delisted\n",
            "- RLC.TO: No data found for this date range, symbol may be delisted\n",
            "- CXR.TO: No data found for this date range, symbol may be delisted\n",
            "- SYZ.TO: No data found, symbol may be delisted\n",
            "- CSE.TO: No data found for this date range, symbol may be delisted\n",
            "- NVC.TO: No data found, symbol may be delisted\n",
            "- HOT.UN.TO: No data found, symbol may be delisted\n",
            "- BNP.TO: No data found, symbol may be delisted\n",
            "- AKG.TO: No data found, symbol may be delisted\n",
            "- IIP.UN.TO: No data found, symbol may be delisted\n",
            "- CSO.TO: No data found, symbol may be delisted\n",
            "- GBT.A.TO: No data found, symbol may be delisted\n",
            "- RME.TO: No data found, symbol may be delisted\n",
            "- LII.TO: No data found for this date range, symbol may be delisted\n",
            "- DDC.TO: No data found for this date range, symbol may be delisted\n",
            "- TCK-B.TO: No data found for this date range, symbol may be delisted\n",
            "- RMM.UN.TO: No data found, symbol may be delisted\n",
            "- NCC.A.TO: No data found, symbol may be delisted\n",
            "- LAS.A.TO: No data found, symbol may be delisted\n",
            "- ABT.TO: No data found, symbol may be delisted\n",
            "- CQE.TO: No data found, symbol may be delisted\n",
            "- ELW.TO: No data found, symbol may be delisted\n",
            "- CSW.A.TO: No data found, symbol may be delisted\n",
            "- LRE.TO: No data found for this date range, symbol may be delisted\n",
            "- TMA.TO: No data found for this date range, symbol may be delisted\n",
            "- CHE.UN.TO: No data found, symbol may be delisted\n",
            "- AW.UN.TO: No data found, symbol may be delisted\n",
            "- LIQ.TO: No data found for this date range, symbol may be delisted\n",
            "- AGU.TO: No data found for this date range, symbol may be delisted\n",
            "- CVL.TO: No data found for this date range, symbol may be delisted\n",
            "- CUM.TO: No data found for this date range, symbol may be delisted\n",
            "- KGI.TO: No data found for this date range, symbol may be delisted\n",
            "- DCI.TO: No data found for this date range, symbol may be delisted\n",
            "- TBE.TO: No data found for this date range, symbol may be delisted\n",
            "- SVC.TO: No data found for this date range, symbol may be delisted\n",
            "- PTK.TO: No data found, symbol may be delisted\n",
            "- PLT.UN.TO: No data found, symbol may be delisted\n",
            "- HLP.UN.TO: No data found, symbol may be delisted\n",
            "- LTS.TO: No data found for this date range, symbol may be delisted\n",
            "- ESL.TO: No data found for this date range, symbol may be delisted\n",
            "- EH.TO: No data found for this date range, symbol may be delisted\n",
            "- ADW.A.TO: No data found, symbol may be delisted\n",
            "- BLD.TO: No data found for this date range, symbol may be delisted\n",
            "- PTA.TO: No data found for this date range, symbol may be delisted\n",
            "- PLI.TO: No data found, symbol may be delisted\n",
            "- MDZ.A.TO: No data found, symbol may be delisted\n",
            "- TCL.A.TO: No data found, symbol may be delisted\n",
            "- POT.TO: No data found for this date range, symbol may be delisted\n",
            "- NDQ.TO: No data found for this date range, symbol may be delisted\n",
            "- LSG.TO: No data found for this date range, symbol may be delisted\n",
            "- BXE.TO: No data found, symbol may be delisted\n",
            "- PWT.TO: No data found for this date range, symbol may be delisted\n",
            "- DIR.UN.TO: No data found, symbol may be delisted\n",
            "- DRG.UN.TO: No data found, symbol may be delisted\n",
            "- WJA.TO: No data found, symbol may be delisted\n",
            "- SMA.TO: No data found for this date range, symbol may be delisted\n",
            "- CWC.TO: No data found, symbol may be delisted\n",
            "- HNL.TO: No data found, symbol may be delisted\n",
            "- MVN.TO: No data found, symbol may be delisted\n",
            "- OXC.TO: No data found, symbol may be delisted\n",
            "- XSR.TO: No data found for this date range, symbol may be delisted\n",
            "- TS.B.TO: No data found, symbol may be delisted\n",
            "- MDA.TO: No data found for this date range, symbol may be delisted\n",
            "- RMX.TO: No data found, symbol may be delisted\n",
            "- GMP.TO: No data found, symbol may be delisted\n",
            "- CNL.TO: No data found, symbol may be delisted\n",
            "- NPR.UN.TO: No data found, symbol may be delisted\n",
            "- PPY.TO: No data found for this date range, symbol may be delisted\n",
            "- FCR.TO: No data found, symbol may be delisted\n",
            "- MRT.UN.TO: No data found, symbol may be delisted\n",
            "- SVL.TO: No data found for this date range, symbol may be delisted\n",
            "- PUR.TO: No data found for this date range, symbol may be delisted\n",
            "- RRX.TO: No data found, symbol may be delisted\n",
            "- DII.B.TO: No data found, symbol may be delisted\n",
            "- RKN.TO: No data found for this date range, symbol may be delisted\n",
            "- BIN.TO: No data found for this date range, symbol may be delisted\n",
            "- INP.TO: No data found for this date range, symbol may be delisted\n",
            "- MRG.UN.TO: No data found, symbol may be delisted\n",
            "- ZCL.TO: No data found, symbol may be delisted\n",
            "- AGF.B.TO: No data found, symbol may be delisted\n",
            "- BOX-UN.TO: No data found for this date range, symbol may be delisted\n",
            "- SUM.TO: No data found, symbol may be delisted\n",
            "- ACC.TO: No data found for this date range, symbol may be delisted\n",
            "- VNR.TO: No data found, symbol may be delisted\n",
            "- CUS.TO: No data found for this date range, symbol may be delisted\n",
            "- SCC.TO: No data found for this date range, symbol may be delisted\n",
            "- NWH.UN.TO: No data found, symbol may be delisted\n",
            "- SVY.TO: No data found for this date range, symbol may be delisted\n",
            "- NGQ.TO: No data found, symbol may be delisted\n",
            "- WB.TO: No data found for this date range, symbol may be delisted\n",
            "- AGT.TO: No data found, symbol may be delisted\n",
            "- TTH.TO: No data found for this date range, symbol may be delisted\n",
            "- BCM.TO: No data found, symbol may be delisted\n",
            "- HYG.TO: No data found, symbol may be delisted\n",
            "- SNM.TO: No data found, symbol may be delisted\n",
            "- PLZ.UN.TO: No data found, symbol may be delisted\n",
            "- OER.TO: No data found for this date range, symbol may be delisted\n",
            "- INN.UN.TO: No data found, symbol may be delisted\n",
            "- SWY.TO: No data found, symbol may be delisted\n",
            "- NUS.TO: No data found, symbol may be delisted\n",
            "- SLW.TO: No data found for this date range, symbol may be delisted\n",
            "- ECA.TO: No data found, symbol may be delisted\n",
            "- MMT.TO: No data found for this date range, symbol may be delisted\n",
            "- DH.TO: No data found for this date range, symbol may be delisted\n",
            "- COS.TO: No data found for this date range, symbol may be delisted\n",
            "- SMF.TO: No data found, symbol may be delisted\n",
            "- WPT.TO: No data found for this date range, symbol may be delisted\n",
            "- DHX.TO: No data found, symbol may be delisted\n",
            "- GBU.TO: No data found for this date range, symbol may be delisted\n",
            "- MBT.TO: No data found for this date range, symbol may be delisted\n",
            "- GET.TO: No data found, symbol may be delisted\n",
            "- HGN.TO: No data found for this date range, symbol may be delisted\n",
            "- PGF.TO: No data found, symbol may be delisted\n",
            "- PAA.TO: No data found for this date range, symbol may be delisted\n",
            "- FRC.TO: No data found for this date range, symbol may be delisted\n",
            "- HBC.TO: No data found, symbol may be delisted\n",
            "- RMC.TO: No data found, symbol may be delisted\n",
            "- TCM.TO: No data found for this date range, symbol may be delisted\n",
            "- TVA.B.TO: No data found, symbol may be delisted\n",
            "- DTX.TO: No data found for this date range, symbol may be delisted\n",
            "- PWF.TO: No data found, symbol may be delisted\n",
            "- QLT.TO: No data found for this date range, symbol may be delisted\n",
            "- WED.TO: No data found for this date range, symbol may be delisted\n",
            "- MST.UN.TO: No data found, symbol may be delisted\n",
            "- LW.TO: No data found for this date range, symbol may be delisted\n",
            "- RCL.TO: No data found for this date range, symbol may be delisted\n",
            "- WZR.TO: No data found, symbol may be delisted\n",
            "- THO.TO: No data found, symbol may be delisted\n",
            "- DC.A.TO: No data found, symbol may be delisted\n",
            "- GCG.A.TO: No data found, symbol may be delisted\n",
            "- TMB.TO: No data found for this date range, symbol may be delisted\n",
            "- ASR.TO: No data found, symbol may be delisted\n",
            "- KAT.TO: No data found, symbol may be delisted\n",
            "- RE.TO: No data found for this date range, symbol may be delisted\n",
            "- G.TO: No data found, symbol may be delisted\n",
            "- TMM.TO: No data found for this date range, symbol may be delisted\n",
            "- RET.A.TO: No data found, symbol may be delisted\n",
            "- HNZ.A.TO: No data found, symbol may be delisted\n",
            "- CHR.B.TO: No data found, symbol may be delisted\n",
            "- NSU.TO: No data found, symbol may be delisted\n",
            "- AD.TO: No data found, symbol may be delisted\n",
            "- WIR.U.TO: No data found, symbol may be delisted\n",
            "- PSG.TO: No data found for this date range, symbol may be delisted\n",
            "- AKT.A.TO: No data found, symbol may be delisted\n",
            "- CAM.TO: No data found for this date range, symbol may be delisted\n",
            "- BPF.UN.TO: No data found, symbol may be delisted\n",
            "- NIF.UN.TO: No data found, symbol may be delisted\n",
            "- NTB.TO: No data found for this date range, symbol may be delisted\n"
          ],
          "name": "stdout"
        }
      ]
    },
    {
      "cell_type": "code",
      "metadata": {
        "id": "4PyXbR-Fo_BM"
      },
      "source": [
        "data_tsx = data_tsx.dropna(axis=1)"
      ],
      "execution_count": null,
      "outputs": []
    },
    {
      "cell_type": "code",
      "metadata": {
        "colab": {
          "base_uri": "https://localhost:8080/"
        },
        "id": "DtdaLW3jqp1F",
        "outputId": "43e59f80-c184-4cdc-8add-27f834c219cf"
      },
      "source": [
        "data = yf.download(('GE','NOK','GME','MSFT','BBD-B.TO','BEP-UN.TO','RNW.TO','CSU.TO','WSP.TO','SNC.TO','TSLA','NVDA','SPWR','LSPD.TO','AC.TO','BLX.TO','WEED.TO','NEE','WMT','BB.TO','DSG.TO','NA.TO'),start='2015-01-01',end='2021-01-31')"
      ],
      "execution_count": null,
      "outputs": [
        {
          "output_type": "stream",
          "text": [
            "[*********************100%***********************]  22 of 22 completed\n"
          ],
          "name": "stdout"
        }
      ]
    },
    {
      "cell_type": "code",
      "metadata": {
        "colab": {
          "base_uri": "https://localhost:8080/"
        },
        "id": "ZsSNs7ZKspgq",
        "outputId": "fd6cf6a3-1266-42bc-a29b-0efdfb86fe0a"
      },
      "source": [
        "pip install PyPortfolioOpt"
      ],
      "execution_count": null,
      "outputs": [
        {
          "output_type": "stream",
          "text": [
            "Collecting PyPortfolioOpt\n",
            "\u001b[?25l  Downloading https://files.pythonhosted.org/packages/46/55/7d39d78d554ee33a7317e345caf01339da11406c28f18bc48794fe967935/PyPortfolioOpt-1.4.1-py3-none-any.whl (56kB)\n",
            "\r\u001b[K     |█████▊                          | 10kB 15.3MB/s eta 0:00:01\r\u001b[K     |███████████▌                    | 20kB 19.9MB/s eta 0:00:01\r\u001b[K     |█████████████████▎              | 30kB 8.6MB/s eta 0:00:01\r\u001b[K     |███████████████████████         | 40kB 8.8MB/s eta 0:00:01\r\u001b[K     |████████████████████████████▉   | 51kB 5.1MB/s eta 0:00:01\r\u001b[K     |████████████████████████████████| 61kB 3.3MB/s \n",
            "\u001b[?25hRequirement already satisfied: numpy<2.0,>=1.12 in /usr/local/lib/python3.7/dist-packages (from PyPortfolioOpt) (1.19.5)\n",
            "Requirement already satisfied: pandas>=0.19 in /usr/local/lib/python3.7/dist-packages (from PyPortfolioOpt) (1.1.5)\n",
            "Collecting cvxpy<2.0.0,>=1.1.10\n",
            "\u001b[?25l  Downloading https://files.pythonhosted.org/packages/b5/7e/ec053f8a89f0c380379f9af2066e55fa77adfd5ef7fa63923097b0e2896b/cvxpy-1.1.11.tar.gz (1.3MB)\n",
            "\u001b[K     |████████████████████████████████| 1.3MB 8.9MB/s \n",
            "\u001b[?25h  Installing build dependencies ... \u001b[?25l\u001b[?25hdone\n",
            "  Getting requirements to build wheel ... \u001b[?25l\u001b[?25hdone\n",
            "    Preparing wheel metadata ... \u001b[?25l\u001b[?25hdone\n",
            "Requirement already satisfied: scipy<2.0,>=1.3 in /usr/local/lib/python3.7/dist-packages (from PyPortfolioOpt) (1.4.1)\n",
            "Requirement already satisfied: python-dateutil>=2.7.3 in /usr/local/lib/python3.7/dist-packages (from pandas>=0.19->PyPortfolioOpt) (2.8.1)\n",
            "Requirement already satisfied: pytz>=2017.2 in /usr/local/lib/python3.7/dist-packages (from pandas>=0.19->PyPortfolioOpt) (2018.9)\n",
            "Requirement already satisfied: osqp>=0.4.1 in /usr/local/lib/python3.7/dist-packages (from cvxpy<2.0.0,>=1.1.10->PyPortfolioOpt) (0.6.2.post0)\n",
            "Requirement already satisfied: scs>=1.1.6 in /usr/local/lib/python3.7/dist-packages (from cvxpy<2.0.0,>=1.1.10->PyPortfolioOpt) (2.1.2)\n",
            "Requirement already satisfied: ecos>=2 in /usr/local/lib/python3.7/dist-packages (from cvxpy<2.0.0,>=1.1.10->PyPortfolioOpt) (2.0.7.post1)\n",
            "Requirement already satisfied: six>=1.5 in /usr/local/lib/python3.7/dist-packages (from python-dateutil>=2.7.3->pandas>=0.19->PyPortfolioOpt) (1.15.0)\n",
            "Requirement already satisfied: qdldl in /usr/local/lib/python3.7/dist-packages (from osqp>=0.4.1->cvxpy<2.0.0,>=1.1.10->PyPortfolioOpt) (0.1.5.post0)\n",
            "Building wheels for collected packages: cvxpy\n",
            "  Building wheel for cvxpy (PEP 517) ... \u001b[?25l\u001b[?25hdone\n",
            "  Created wheel for cvxpy: filename=cvxpy-1.1.11-cp37-cp37m-linux_x86_64.whl size=2725512 sha256=87af6ece6d6e0636a3c851667568304756a3ec68435b82d76888c2ce00ec46b9\n",
            "  Stored in directory: /root/.cache/pip/wheels/df/d4/eb/c74e09a39bc4ac09b3a8d2a48c1c6009f391056d8c87bf68aa\n",
            "Successfully built cvxpy\n",
            "Installing collected packages: cvxpy, PyPortfolioOpt\n",
            "  Found existing installation: cvxpy 1.0.31\n",
            "    Uninstalling cvxpy-1.0.31:\n",
            "      Successfully uninstalled cvxpy-1.0.31\n",
            "Successfully installed PyPortfolioOpt-1.4.1 cvxpy-1.1.11\n"
          ],
          "name": "stdout"
        }
      ]
    },
    {
      "cell_type": "code",
      "metadata": {
        "id": "mWXmH0Ej3Ejm"
      },
      "source": [
        "from pypfopt.efficient_frontier import EfficientFrontier\n",
        "from pypfopt import risk_models\n",
        "from pypfopt import expected_returns"
      ],
      "execution_count": null,
      "outputs": []
    },
    {
      "cell_type": "code",
      "metadata": {
        "id": "3sAVSwWm3S3g"
      },
      "source": [
        "#Calculate the expected annualized returns and the annualized sample covariance matrix of the daily asset returns\n",
        "df = data.drop(labels=['High','Low','Open','Close','Volume'],axis=1)\n",
        "df_tsx = data_tsx.drop(labels=['High','Low','Open','Close','Volume'],axis=1)\n",
        "\n",
        "mu = expected_returns.mean_historical_return(df)\n",
        "mu_tsx = expected_returns.mean_historical_return(df_tsx)\n",
        "                                                 \n",
        "s = risk_models.sample_cov(df)\n",
        "s_tsx = risk_models.sample_cov(df_tsx)"
      ],
      "execution_count": null,
      "outputs": []
    },
    {
      "cell_type": "code",
      "metadata": {
        "colab": {
          "base_uri": "https://localhost:8080/"
        },
        "id": "aXOLs25m3mcV",
        "outputId": "8992ac97-78cb-4ac5-9302-5563afec9ae0"
      },
      "source": [
        "#Optimize for the maximal Sharpe Ratio\n",
        "ef = EfficientFrontier(mu, s) #Create the Efficient Frontier Object\n",
        "ef_tsx = EfficientFrontier(mu_tsx, s_tsx)\n",
        "weights = ef.max_sharpe()\n",
        "weights_tsx = ef_tsx.max_sharpe()\n",
        "\n",
        "cleaned_weights = ef.clean_weights()\n",
        "cleaned_weights_tsx = ef_tsx.clean_weights()\n",
        "ef.portfolio_performance(verbose=True)\n",
        "ef_tsx.portfolio_performance(verbose=True)"
      ],
      "execution_count": null,
      "outputs": [
        {
          "output_type": "stream",
          "text": [
            "Expected annual return: 43.3%\n",
            "Annual volatility: 21.7%\n",
            "Sharpe Ratio: 1.91\n",
            "Expected annual return: 22.7%\n",
            "Annual volatility: 11.7%\n",
            "Sharpe Ratio: 1.77\n"
          ],
          "name": "stdout"
        },
        {
          "output_type": "stream",
          "text": [
            "/usr/local/lib/python3.7/dist-packages/cvxpy/problems/problem.py:1246: UserWarning: Solution may be inaccurate. Try another solver, adjusting the solver settings, or solve with verbose=True for more information.\n",
            "  \"Solution may be inaccurate. Try another solver, \"\n"
          ],
          "name": "stderr"
        },
        {
          "output_type": "execute_result",
          "data": {
            "text/plain": [
              "(0.2269208136847273, 0.11708525965173082, 1.7672661298289096)"
            ]
          },
          "metadata": {
            "tags": []
          },
          "execution_count": 86
        }
      ]
    },
    {
      "cell_type": "code",
      "metadata": {
        "colab": {
          "base_uri": "https://localhost:8080/"
        },
        "id": "DEag-Bkc3zy_",
        "outputId": "50b9fe9d-222d-49bd-e5c5-dbc62aab44bf"
      },
      "source": [
        "pip install pulp"
      ],
      "execution_count": null,
      "outputs": [
        {
          "output_type": "stream",
          "text": [
            "Collecting pulp\n",
            "\u001b[?25l  Downloading https://files.pythonhosted.org/packages/14/c4/0eec14a0123209c261de6ff154ef3be5cad3fd557c084f468356662e0585/PuLP-2.4-py3-none-any.whl (40.6MB)\n",
            "\u001b[K     |████████████████████████████████| 40.6MB 102kB/s \n",
            "\u001b[?25hCollecting amply>=0.1.2\n",
            "  Downloading https://files.pythonhosted.org/packages/f3/c5/dfa09dd2595a2ab2ab4e6fa7bebef9565812722e1980d04b0edce5032066/amply-0.1.4-py3-none-any.whl\n",
            "Requirement already satisfied: pyparsing in /usr/local/lib/python3.7/dist-packages (from amply>=0.1.2->pulp) (2.4.7)\n",
            "Requirement already satisfied: docutils>=0.3 in /usr/local/lib/python3.7/dist-packages (from amply>=0.1.2->pulp) (0.16)\n",
            "Installing collected packages: amply, pulp\n",
            "Successfully installed amply-0.1.4 pulp-2.4\n"
          ],
          "name": "stdout"
        }
      ]
    },
    {
      "cell_type": "code",
      "metadata": {
        "colab": {
          "base_uri": "https://localhost:8080/"
        },
        "id": "N7XwiINL4tUO",
        "outputId": "447f8d8a-f047-46b7-d0db-40099159d8e0"
      },
      "source": [
        "# Get the discrete allocation of each share per stock\n",
        "from pypfopt.discrete_allocation import DiscreteAllocation, get_latest_prices\n",
        "\n",
        "portfolio_val = 10000\n",
        "latest_prices = get_latest_prices(df)\n",
        "weights = cleaned_weights\n",
        "da = DiscreteAllocation(weights, latest_prices, total_portfolio_value = portfolio_val)\n",
        "allocation, leftover = da.lp_portfolio()\n",
        "print('Discrete Allocation:', allocation)\n",
        "print('Funds remaining: $', leftover )"
      ],
      "execution_count": null,
      "outputs": [
        {
          "output_type": "stream",
          "text": [
            "Discrete Allocation: {('Adj Close', 'BEP-UN.TO'): 2, ('Adj Close', 'BLX.TO'): 32, ('Adj Close', 'CSU.TO'): 1, ('Adj Close', 'GME'): 1, ('Adj Close', 'NEE'): 17, ('Adj Close', 'NVDA'): 5, ('Adj Close', 'TSLA'): 1, ('Adj Close', 'WEED.TO'): 13, ('Adj Close', 'WSP.TO'): 8}\n",
            "Funds remaining: $ 24.615306854248047\n"
          ],
          "name": "stdout"
        }
      ]
    },
    {
      "cell_type": "code",
      "metadata": {
        "colab": {
          "base_uri": "https://localhost:8080/"
        },
        "id": "R0FNZrkvq3q0",
        "outputId": "2708e14e-92a6-40e5-ece8-e82b24d5a7e0"
      },
      "source": [
        "# Get the discrete allocation of each share per stock\n",
        "\n",
        "portfolio_val = 10000\n",
        "latest_prices_tsx = get_latest_prices(df_tsx)\n",
        "weights_tsx = cleaned_weights_tsx\n",
        "da_tsx = DiscreteAllocation(weights_tsx, latest_prices_tsx, total_portfolio_value = portfolio_val)\n",
        "allocation_tsx, leftover_tsx = da_tsx.lp_portfolio()\n",
        "print('Discrete Allocation:', allocation_tsx)\n",
        "print('Funds remaining: $', leftover_tsx )"
      ],
      "execution_count": null,
      "outputs": [
        {
          "output_type": "stream",
          "text": [
            "Discrete Allocation: {('Adj Close', 'AQN.TO'): 8, ('Adj Close', 'ATD-B.TO'): 24, ('Adj Close', 'BAD.TO'): 11, ('Adj Close', 'CAR-UN.TO'): 7, ('Adj Close', 'CCL-B.TO'): 12, ('Adj Close', 'DOL.TO'): 29, ('Adj Close', 'DSG.TO'): 9, ('Adj Close', 'FNV.TO'): 6, ('Adj Close', 'IFC.TO'): 1, ('Adj Close', 'INE.TO'): 16, ('Adj Close', 'ITP.TO'): 3, ('Adj Close', 'KBL.TO'): 5, ('Adj Close', 'MRU.TO'): 7, ('Adj Close', 'MSI.TO'): 11, ('Adj Close', 'PBH.TO'): 12, ('Adj Close', 'RCH.TO'): 4, ('Adj Close', 'SGY.TO'): 5, ('Adj Close', 'TIH.TO'): 2, ('Adj Close', 'WCN.TO'): 4, ('Adj Close', 'X.TO'): 4}\n",
            "Funds remaining: $ 0.23291510343551636\n"
          ],
          "name": "stdout"
        }
      ]
    },
    {
      "cell_type": "code",
      "metadata": {
        "id": "vn88dWYe5Tgk"
      },
      "source": [
        "#Create function to get the companies name\n",
        "def get_company_name(symbol):\n",
        "  url = 'http://d.yimg.com/autoc.finance.yahoo.com/autoc?query='+symbol+'&region=1&lang=en'\n",
        "  result = requests.get(url).json()\n",
        "  for r in result['ResultSet']['Result']:\n",
        "    if r['symbol']==symbol:\n",
        "      print(r['name'])\n",
        "      return r['name']"
      ],
      "execution_count": null,
      "outputs": []
    },
    {
      "cell_type": "code",
      "metadata": {
        "colab": {
          "base_uri": "https://localhost:8080/"
        },
        "id": "0aSHQJ0p79By",
        "outputId": "1b0abb7c-c58a-407b-bca4-88dcdef2a385"
      },
      "source": [
        "#Store the company name into a list\n",
        "company_name = []\n",
        "for symbol in allocation:\n",
        "  company_name.append(get_company_name(symbol[1]))\n"
      ],
      "execution_count": null,
      "outputs": [
        {
          "output_type": "stream",
          "text": [
            "Brookfield Renewable Partners L.P.\n",
            "Boralex Inc.\n",
            "Constellation Software Inc.\n",
            "GameStop Corp.\n",
            "NextEra Energy, Inc.\n",
            "NVIDIA Corporation\n",
            "Tesla, Inc.\n",
            "Canopy Growth Corporation\n",
            "WSP Global Inc.\n"
          ],
          "name": "stdout"
        }
      ]
    },
    {
      "cell_type": "code",
      "metadata": {
        "colab": {
          "base_uri": "https://localhost:8080/"
        },
        "id": "FPTl0m4wrHd0",
        "outputId": "b58673be-4575-4b6e-92b3-9bbcfeff150c"
      },
      "source": [
        "#Store the company name into a list\n",
        "company_name_tsx = []\n",
        "for symbol in allocation_tsx:\n",
        "  company_name_tsx.append(get_company_name(symbol[1]))\n"
      ],
      "execution_count": null,
      "outputs": [
        {
          "output_type": "stream",
          "text": [
            "Algonquin Power & Utilities Corp.\n",
            "Alimentation Couche-Tard Inc.\n",
            "Badger Daylighting Ltd.\n",
            "Canadian Apartment Properties Real Estate Investment Trust\n",
            "CCL Industries Inc.\n",
            "Dollarama Inc.\n",
            "The Descartes Systems Group Inc\n",
            "Franco-Nevada Corporation\n",
            "Intact Financial Corporation\n",
            "Innergex Renewable Energy Inc.\n",
            "Intertape Polymer Group Inc.\n",
            "K-Bro Linen Inc.\n",
            "Metro Inc.\n",
            "Morneau Shepell Inc.\n",
            "Premium Brands Holdings Corporation\n",
            "Richelieu Hardware Ltd.\n",
            "Surge Energy Inc.\n",
            "Toromont Industries Ltd.\n",
            "Waste Connections, Inc.\n",
            "TMX Group Limited\n"
          ],
          "name": "stdout"
        }
      ]
    },
    {
      "cell_type": "code",
      "metadata": {
        "id": "huc3JJ7b8QYj"
      },
      "source": [
        "#Get the discrte allocation values\n",
        "discrete_allocation_list = []\n",
        "for symbol in allocation:\n",
        "  discrete_allocation_list.append(allocation.get(symbol))"
      ],
      "execution_count": null,
      "outputs": []
    },
    {
      "cell_type": "code",
      "metadata": {
        "id": "yyUgZdrz98Qg"
      },
      "source": [
        "#Create a dataframe for portfolio\n",
        "portfolio_df = pd.DataFrame(columns = ['Company_name', 'Company_Ticker','Discrete_val_'+str(portfolio_val)])\n",
        "portfolio_df_tsx = pd.DataFrame(columns = ['Company_name', 'Company_Ticker','Discrete_val_'+str(portfolio_val)])"
      ],
      "execution_count": null,
      "outputs": []
    },
    {
      "cell_type": "code",
      "metadata": {
        "colab": {
          "background_save": true,
          "base_uri": "https://localhost:8080/",
          "height": 374
        },
        "id": "8DpmmYDo-Qdx",
        "outputId": "65383ce4-ff08-48a4-a34c-251fb25bf66c"
      },
      "source": [
        "portfolio_df['Company_name'] = company_name\n",
        "portfolio_df['Company_Ticker'] = allocation\n",
        "portfolio_df['Discrete_val_'+str(portfolio_val)] = discrete_allocation_list\n",
        "portfolio_df['Company_name'] = company_name_tsx\n",
        "portfolio_df['Company_Ticker'] = allocation_tsx\n",
        "portfolio_df['Discrete_val_'+str(portfolio_val)] = discrete_allocation_list_tsx"
      ],
      "execution_count": null,
      "outputs": [
        {
          "output_type": "error",
          "ename": "ValueError",
          "evalue": "ignored",
          "traceback": [
            "\u001b[0;31m---------------------------------------------------------------------------\u001b[0m",
            "\u001b[0;31mValueError\u001b[0m                                Traceback (most recent call last)",
            "\u001b[0;32m<ipython-input-97-ab430d3af038>\u001b[0m in \u001b[0;36m<module>\u001b[0;34m()\u001b[0m\n\u001b[1;32m      2\u001b[0m \u001b[0;31m#portfolio_df['Company_Ticker'] = allocation\u001b[0m\u001b[0;34m\u001b[0m\u001b[0;34m\u001b[0m\u001b[0;34m\u001b[0m\u001b[0m\n\u001b[1;32m      3\u001b[0m \u001b[0;31m#portfolio_df['Discrete_val_'+str(portfolio_val)] = discrete_allocation_list\u001b[0m\u001b[0;34m\u001b[0m\u001b[0;34m\u001b[0m\u001b[0;34m\u001b[0m\u001b[0m\n\u001b[0;32m----> 4\u001b[0;31m \u001b[0mportfolio_df\u001b[0m\u001b[0;34m[\u001b[0m\u001b[0;34m'Company_name'\u001b[0m\u001b[0;34m]\u001b[0m \u001b[0;34m=\u001b[0m \u001b[0mcompany_name_tsx\u001b[0m\u001b[0;34m\u001b[0m\u001b[0;34m\u001b[0m\u001b[0m\n\u001b[0m\u001b[1;32m      5\u001b[0m \u001b[0mportfolio_df\u001b[0m\u001b[0;34m[\u001b[0m\u001b[0;34m'Company_Ticker'\u001b[0m\u001b[0;34m]\u001b[0m \u001b[0;34m=\u001b[0m \u001b[0mallocation_tsx\u001b[0m\u001b[0;34m\u001b[0m\u001b[0;34m\u001b[0m\u001b[0m\n\u001b[1;32m      6\u001b[0m \u001b[0mportfolio_df\u001b[0m\u001b[0;34m[\u001b[0m\u001b[0;34m'Discrete_val_'\u001b[0m\u001b[0;34m+\u001b[0m\u001b[0mstr\u001b[0m\u001b[0;34m(\u001b[0m\u001b[0mportfolio_val\u001b[0m\u001b[0;34m)\u001b[0m\u001b[0;34m]\u001b[0m \u001b[0;34m=\u001b[0m \u001b[0mdiscrete_allocation_list_tsx\u001b[0m\u001b[0;34m\u001b[0m\u001b[0;34m\u001b[0m\u001b[0m\n",
            "\u001b[0;32m/usr/local/lib/python3.7/dist-packages/pandas/core/frame.py\u001b[0m in \u001b[0;36m__setitem__\u001b[0;34m(self, key, value)\u001b[0m\n\u001b[1;32m   3042\u001b[0m         \u001b[0;32melse\u001b[0m\u001b[0;34m:\u001b[0m\u001b[0;34m\u001b[0m\u001b[0;34m\u001b[0m\u001b[0m\n\u001b[1;32m   3043\u001b[0m             \u001b[0;31m# set column\u001b[0m\u001b[0;34m\u001b[0m\u001b[0;34m\u001b[0m\u001b[0;34m\u001b[0m\u001b[0m\n\u001b[0;32m-> 3044\u001b[0;31m             \u001b[0mself\u001b[0m\u001b[0;34m.\u001b[0m\u001b[0m_set_item\u001b[0m\u001b[0;34m(\u001b[0m\u001b[0mkey\u001b[0m\u001b[0;34m,\u001b[0m \u001b[0mvalue\u001b[0m\u001b[0;34m)\u001b[0m\u001b[0;34m\u001b[0m\u001b[0;34m\u001b[0m\u001b[0m\n\u001b[0m\u001b[1;32m   3045\u001b[0m \u001b[0;34m\u001b[0m\u001b[0m\n\u001b[1;32m   3046\u001b[0m     \u001b[0;32mdef\u001b[0m \u001b[0m_setitem_slice\u001b[0m\u001b[0;34m(\u001b[0m\u001b[0mself\u001b[0m\u001b[0;34m,\u001b[0m \u001b[0mkey\u001b[0m\u001b[0;34m:\u001b[0m \u001b[0mslice\u001b[0m\u001b[0;34m,\u001b[0m \u001b[0mvalue\u001b[0m\u001b[0;34m)\u001b[0m\u001b[0;34m:\u001b[0m\u001b[0;34m\u001b[0m\u001b[0;34m\u001b[0m\u001b[0m\n",
            "\u001b[0;32m/usr/local/lib/python3.7/dist-packages/pandas/core/frame.py\u001b[0m in \u001b[0;36m_set_item\u001b[0;34m(self, key, value)\u001b[0m\n\u001b[1;32m   3118\u001b[0m         \"\"\"\n\u001b[1;32m   3119\u001b[0m         \u001b[0mself\u001b[0m\u001b[0;34m.\u001b[0m\u001b[0m_ensure_valid_index\u001b[0m\u001b[0;34m(\u001b[0m\u001b[0mvalue\u001b[0m\u001b[0;34m)\u001b[0m\u001b[0;34m\u001b[0m\u001b[0;34m\u001b[0m\u001b[0m\n\u001b[0;32m-> 3120\u001b[0;31m         \u001b[0mvalue\u001b[0m \u001b[0;34m=\u001b[0m \u001b[0mself\u001b[0m\u001b[0;34m.\u001b[0m\u001b[0m_sanitize_column\u001b[0m\u001b[0;34m(\u001b[0m\u001b[0mkey\u001b[0m\u001b[0;34m,\u001b[0m \u001b[0mvalue\u001b[0m\u001b[0;34m)\u001b[0m\u001b[0;34m\u001b[0m\u001b[0;34m\u001b[0m\u001b[0m\n\u001b[0m\u001b[1;32m   3121\u001b[0m         \u001b[0mNDFrame\u001b[0m\u001b[0;34m.\u001b[0m\u001b[0m_set_item\u001b[0m\u001b[0;34m(\u001b[0m\u001b[0mself\u001b[0m\u001b[0;34m,\u001b[0m \u001b[0mkey\u001b[0m\u001b[0;34m,\u001b[0m \u001b[0mvalue\u001b[0m\u001b[0;34m)\u001b[0m\u001b[0;34m\u001b[0m\u001b[0;34m\u001b[0m\u001b[0m\n\u001b[1;32m   3122\u001b[0m \u001b[0;34m\u001b[0m\u001b[0m\n",
            "\u001b[0;32m/usr/local/lib/python3.7/dist-packages/pandas/core/frame.py\u001b[0m in \u001b[0;36m_sanitize_column\u001b[0;34m(self, key, value, broadcast)\u001b[0m\n\u001b[1;32m   3766\u001b[0m \u001b[0;34m\u001b[0m\u001b[0m\n\u001b[1;32m   3767\u001b[0m             \u001b[0;31m# turn me into an ndarray\u001b[0m\u001b[0;34m\u001b[0m\u001b[0;34m\u001b[0m\u001b[0;34m\u001b[0m\u001b[0m\n\u001b[0;32m-> 3768\u001b[0;31m             \u001b[0mvalue\u001b[0m \u001b[0;34m=\u001b[0m \u001b[0msanitize_index\u001b[0m\u001b[0;34m(\u001b[0m\u001b[0mvalue\u001b[0m\u001b[0;34m,\u001b[0m \u001b[0mself\u001b[0m\u001b[0;34m.\u001b[0m\u001b[0mindex\u001b[0m\u001b[0;34m)\u001b[0m\u001b[0;34m\u001b[0m\u001b[0;34m\u001b[0m\u001b[0m\n\u001b[0m\u001b[1;32m   3769\u001b[0m             \u001b[0;32mif\u001b[0m \u001b[0;32mnot\u001b[0m \u001b[0misinstance\u001b[0m\u001b[0;34m(\u001b[0m\u001b[0mvalue\u001b[0m\u001b[0;34m,\u001b[0m \u001b[0;34m(\u001b[0m\u001b[0mnp\u001b[0m\u001b[0;34m.\u001b[0m\u001b[0mndarray\u001b[0m\u001b[0;34m,\u001b[0m \u001b[0mIndex\u001b[0m\u001b[0;34m)\u001b[0m\u001b[0;34m)\u001b[0m\u001b[0;34m:\u001b[0m\u001b[0;34m\u001b[0m\u001b[0;34m\u001b[0m\u001b[0m\n\u001b[1;32m   3770\u001b[0m                 \u001b[0;32mif\u001b[0m \u001b[0misinstance\u001b[0m\u001b[0;34m(\u001b[0m\u001b[0mvalue\u001b[0m\u001b[0;34m,\u001b[0m \u001b[0mlist\u001b[0m\u001b[0;34m)\u001b[0m \u001b[0;32mand\u001b[0m \u001b[0mlen\u001b[0m\u001b[0;34m(\u001b[0m\u001b[0mvalue\u001b[0m\u001b[0;34m)\u001b[0m \u001b[0;34m>\u001b[0m \u001b[0;36m0\u001b[0m\u001b[0;34m:\u001b[0m\u001b[0;34m\u001b[0m\u001b[0;34m\u001b[0m\u001b[0m\n",
            "\u001b[0;32m/usr/local/lib/python3.7/dist-packages/pandas/core/internals/construction.py\u001b[0m in \u001b[0;36msanitize_index\u001b[0;34m(data, index)\u001b[0m\n\u001b[1;32m    746\u001b[0m     \u001b[0;32mif\u001b[0m \u001b[0mlen\u001b[0m\u001b[0;34m(\u001b[0m\u001b[0mdata\u001b[0m\u001b[0;34m)\u001b[0m \u001b[0;34m!=\u001b[0m \u001b[0mlen\u001b[0m\u001b[0;34m(\u001b[0m\u001b[0mindex\u001b[0m\u001b[0;34m)\u001b[0m\u001b[0;34m:\u001b[0m\u001b[0;34m\u001b[0m\u001b[0;34m\u001b[0m\u001b[0m\n\u001b[1;32m    747\u001b[0m         raise ValueError(\n\u001b[0;32m--> 748\u001b[0;31m             \u001b[0;34m\"Length of values \"\u001b[0m\u001b[0;34m\u001b[0m\u001b[0;34m\u001b[0m\u001b[0m\n\u001b[0m\u001b[1;32m    749\u001b[0m             \u001b[0;34mf\"({len(data)}) \"\u001b[0m\u001b[0;34m\u001b[0m\u001b[0;34m\u001b[0m\u001b[0m\n\u001b[1;32m    750\u001b[0m             \u001b[0;34m\"does not match length of index \"\u001b[0m\u001b[0;34m\u001b[0m\u001b[0;34m\u001b[0m\u001b[0m\n",
            "\u001b[0;31mValueError\u001b[0m: Length of values (20) does not match length of index (8)"
          ]
        }
      ]
    },
    {
      "cell_type": "code",
      "metadata": {
        "colab": {
          "base_uri": "https://localhost:8080/",
          "height": 297
        },
        "id": "WbO6mIa1-my5",
        "outputId": "f61b0381-5cfc-4d85-af73-f4a0381c03c7"
      },
      "source": [
        "portfolio_df"
      ],
      "execution_count": null,
      "outputs": [
        {
          "output_type": "execute_result",
          "data": {
            "text/html": [
              "<div>\n",
              "<style scoped>\n",
              "    .dataframe tbody tr th:only-of-type {\n",
              "        vertical-align: middle;\n",
              "    }\n",
              "\n",
              "    .dataframe tbody tr th {\n",
              "        vertical-align: top;\n",
              "    }\n",
              "\n",
              "    .dataframe thead th {\n",
              "        text-align: right;\n",
              "    }\n",
              "</style>\n",
              "<table border=\"1\" class=\"dataframe\">\n",
              "  <thead>\n",
              "    <tr style=\"text-align: right;\">\n",
              "      <th></th>\n",
              "      <th>Company_name</th>\n",
              "      <th>Company_Ticker</th>\n",
              "      <th>Discrete_val_10000</th>\n",
              "    </tr>\n",
              "  </thead>\n",
              "  <tbody>\n",
              "    <tr>\n",
              "      <th>0</th>\n",
              "      <td>Apple Inc.</td>\n",
              "      <td>(Adj Close, AAPL)</td>\n",
              "      <td>1</td>\n",
              "    </tr>\n",
              "    <tr>\n",
              "      <th>1</th>\n",
              "      <td>Amazon.com, Inc.</td>\n",
              "      <td>(Adj Close, AMZN)</td>\n",
              "      <td>1</td>\n",
              "    </tr>\n",
              "    <tr>\n",
              "      <th>2</th>\n",
              "      <td>BlackBerry Limited</td>\n",
              "      <td>(Adj Close, BB.TO)</td>\n",
              "      <td>3</td>\n",
              "    </tr>\n",
              "    <tr>\n",
              "      <th>3</th>\n",
              "      <td>The Descartes Systems Group Inc</td>\n",
              "      <td>(Adj Close, DSG.TO)</td>\n",
              "      <td>8</td>\n",
              "    </tr>\n",
              "    <tr>\n",
              "      <th>4</th>\n",
              "      <td>Lightspeed POS Inc.</td>\n",
              "      <td>(Adj Close, LSPD.TO)</td>\n",
              "      <td>28</td>\n",
              "    </tr>\n",
              "    <tr>\n",
              "      <th>5</th>\n",
              "      <td>NextEra Energy, Inc.</td>\n",
              "      <td>(Adj Close, NEE)</td>\n",
              "      <td>16</td>\n",
              "    </tr>\n",
              "    <tr>\n",
              "      <th>6</th>\n",
              "      <td>Tesla, Inc.</td>\n",
              "      <td>(Adj Close, TSLA)</td>\n",
              "      <td>2</td>\n",
              "    </tr>\n",
              "    <tr>\n",
              "      <th>7</th>\n",
              "      <td>Walmart Inc.</td>\n",
              "      <td>(Adj Close, WMT)</td>\n",
              "      <td>6</td>\n",
              "    </tr>\n",
              "  </tbody>\n",
              "</table>\n",
              "</div>"
            ],
            "text/plain": [
              "                      Company_name        Company_Ticker  Discrete_val_10000\n",
              "0                       Apple Inc.     (Adj Close, AAPL)                   1\n",
              "1                 Amazon.com, Inc.     (Adj Close, AMZN)                   1\n",
              "2               BlackBerry Limited    (Adj Close, BB.TO)                   3\n",
              "3  The Descartes Systems Group Inc   (Adj Close, DSG.TO)                   8\n",
              "4              Lightspeed POS Inc.  (Adj Close, LSPD.TO)                  28\n",
              "5             NextEra Energy, Inc.      (Adj Close, NEE)                  16\n",
              "6                      Tesla, Inc.     (Adj Close, TSLA)                   2\n",
              "7                     Walmart Inc.      (Adj Close, WMT)                   6"
            ]
          },
          "metadata": {
            "tags": []
          },
          "execution_count": 81
        }
      ]
    },
    {
      "cell_type": "code",
      "metadata": {
        "id": "we0Poz3b-rpY"
      },
      "source": [
        ""
      ],
      "execution_count": null,
      "outputs": []
    }
  ]
}